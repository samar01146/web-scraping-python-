{
 "cells": [
  {
   "cell_type": "code",
   "execution_count": 6,
   "id": "26616444",
   "metadata": {},
   "outputs": [],
   "source": [
    "from flask import Flask, render_template, jsonify"
   ]
  },
  {
   "cell_type": "code",
   "execution_count": 7,
   "id": "64fc9bcd",
   "metadata": {},
   "outputs": [],
   "source": [
    "from bs4 import BeautifulSoup as bs"
   ]
  },
  {
   "cell_type": "code",
   "execution_count": 8,
   "id": "d5ac7e60",
   "metadata": {},
   "outputs": [],
   "source": [
    "from urllib.request import urlopen as urReq"
   ]
  },
  {
   "cell_type": "code",
   "execution_count": 9,
   "id": "7469728d",
   "metadata": {},
   "outputs": [],
   "source": [
    "import requests"
   ]
  },
  {
   "cell_type": "code",
   "execution_count": 10,
   "id": "757ed3a0",
   "metadata": {},
   "outputs": [],
   "source": [
    "flipkart_url = \"https://www.flipkart.com/search?q=\"+\"iphone11\""
   ]
  },
  {
   "cell_type": "code",
   "execution_count": 11,
   "id": "049ba88b",
   "metadata": {},
   "outputs": [],
   "source": [
    "response_data = urReq(flipkart_url)"
   ]
  },
  {
   "cell_type": "code",
   "execution_count": 12,
   "id": "c3236603",
   "metadata": {},
   "outputs": [],
   "source": [
    "beautified_html = bs(response_data, \"html.parser\")"
   ]
  },
  {
   "cell_type": "code",
   "execution_count": 13,
   "id": "9a2afe42",
   "metadata": {},
   "outputs": [],
   "source": [
    "big_box = beautified_html.find_all(\"div\", {\"class\":\"_1AtVbE col-12-12\"})"
   ]
  },
  {
   "cell_type": "code",
   "execution_count": 14,
   "id": "b24fa520",
   "metadata": {
    "scrolled": true
   },
   "outputs": [],
   "source": [
    "product6 = \"https://www.flipkart.com\" + big_box[6].div.div.div.a['href']"
   ]
  },
  {
   "cell_type": "code",
   "execution_count": 15,
   "id": "1a064254",
   "metadata": {},
   "outputs": [],
   "source": [
    "import requests"
   ]
  },
  {
   "cell_type": "code",
   "execution_count": 16,
   "id": "1e98beff",
   "metadata": {},
   "outputs": [],
   "source": [
    "product66 = requests.get(product6)"
   ]
  },
  {
   "cell_type": "code",
   "execution_count": 17,
   "id": "fda96a6f",
   "metadata": {},
   "outputs": [],
   "source": [
    "product66.encoding = 'utf-68'"
   ]
  },
  {
   "cell_type": "code",
   "execution_count": 18,
   "id": "9c2eaffe",
   "metadata": {},
   "outputs": [],
   "source": [
    "beautified_prooduct = bs(product66.text, \"html.parser\")"
   ]
  },
  {
   "cell_type": "code",
   "execution_count": 19,
   "id": "38fb28d2",
   "metadata": {},
   "outputs": [],
   "source": [
    "product_review = beautified_prooduct.find_all(\"div\", {\"class\":\"_16PBlm\"})"
   ]
  },
  {
   "cell_type": "code",
   "execution_count": 20,
   "id": "3bbd6b84",
   "metadata": {},
   "outputs": [],
   "source": [
    "rating = product_review[5].div.div.div.div.text"
   ]
  },
  {
   "cell_type": "code",
   "execution_count": 21,
   "id": "b12b3fdc",
   "metadata": {
    "scrolled": false
   },
   "outputs": [],
   "source": [
    "reviewer_name = product_review[5].div.div.find_all('p', {\"class\":\"_2sc7ZR _2V5EHH\"})[0].text"
   ]
  },
  {
   "cell_type": "code",
   "execution_count": 22,
   "id": "4ca0e617",
   "metadata": {},
   "outputs": [],
   "source": [
    "comment_header = product_review[5].div.div.div.p.text"
   ]
  },
  {
   "cell_type": "code",
   "execution_count": 23,
   "id": "d272661a",
   "metadata": {},
   "outputs": [
    {
     "data": {
      "text/plain": [
       "'Perfect product!'"
      ]
     },
     "execution_count": 23,
     "metadata": {},
     "output_type": "execute_result"
    }
   ],
   "source": [
    "comment_header"
   ]
  },
  {
   "cell_type": "code",
   "execution_count": 24,
   "id": "0132f2ab",
   "metadata": {},
   "outputs": [],
   "source": [
    "date_of_review = product_review[5].div.div.find_all(\"p\", {\"class\":\"_2sc7ZR\"})[1].text"
   ]
  },
  {
   "cell_type": "code",
   "execution_count": 25,
   "id": "409e5a6f",
   "metadata": {},
   "outputs": [],
   "source": [
    "price = beautified_prooduct.find_all(\"div\" , {\"class\":\"_30jeq3 _16Jk6d\"})[0].text"
   ]
  },
  {
   "cell_type": "code",
   "execution_count": 29,
   "id": "80ed847e",
   "metadata": {},
   "outputs": [
    {
     "name": "stdout",
     "output_type": "stream",
     "text": [
      "5 Vishnu Ramakrishnan Classy product Apr, 2021\n",
      "5 Manish  Deshlahare Terrific Jul, 2020\n",
      "5 siva sankar Classy product 3 months ago\n",
      "5 Abhishek Sachdeva Worth every penny Jan, 2020\n",
      "5 Flipkart Customer Wonderful Jan, 2021\n",
      "5 Kuldeep Kumar Perfect product! Apr, 2021\n",
      "5 Steevan Rattra  Best in the market! Nov, 2019\n",
      "4 Flipkart Customer Worth the money Jun, 2020\n",
      "5 Vikram rapolu Just wow! Aug, 2020\n",
      "5 Shivendra Mani  Great product Mar, 2020\n"
     ]
    },
    {
     "ename": "AttributeError",
     "evalue": "'NoneType' object has no attribute 'div'",
     "output_type": "error",
     "traceback": [
      "\u001b[1;31m---------------------------------------------------------------------------\u001b[0m",
      "\u001b[1;31mAttributeError\u001b[0m                            Traceback (most recent call last)",
      "Input \u001b[1;32mIn [29]\u001b[0m, in \u001b[0;36m<cell line: 1>\u001b[1;34m()\u001b[0m\n\u001b[0;32m      1\u001b[0m \u001b[38;5;28;01mfor\u001b[39;00m i \u001b[38;5;129;01min\u001b[39;00m product_review:\n\u001b[1;32m----> 2\u001b[0m     rating \u001b[38;5;241m=\u001b[39m \u001b[43mi\u001b[49m\u001b[38;5;241;43m.\u001b[39;49m\u001b[43mdiv\u001b[49m\u001b[38;5;241;43m.\u001b[39;49m\u001b[43mdiv\u001b[49m\u001b[38;5;241m.\u001b[39mdiv\u001b[38;5;241m.\u001b[39mdiv\u001b[38;5;241m.\u001b[39mtext\n\u001b[0;32m      3\u001b[0m     reviewer_name \u001b[38;5;241m=\u001b[39m i\u001b[38;5;241m.\u001b[39mdiv\u001b[38;5;241m.\u001b[39mdiv\u001b[38;5;241m.\u001b[39mfind_all(\u001b[38;5;124m'\u001b[39m\u001b[38;5;124mp\u001b[39m\u001b[38;5;124m'\u001b[39m, {\u001b[38;5;124m\"\u001b[39m\u001b[38;5;124mclass\u001b[39m\u001b[38;5;124m\"\u001b[39m:\u001b[38;5;124m\"\u001b[39m\u001b[38;5;124m_2sc7ZR _2V5EHH\u001b[39m\u001b[38;5;124m\"\u001b[39m})[\u001b[38;5;241m0\u001b[39m]\u001b[38;5;241m.\u001b[39mtext\n\u001b[0;32m      4\u001b[0m     comment_header \u001b[38;5;241m=\u001b[39m i\u001b[38;5;241m.\u001b[39mdiv\u001b[38;5;241m.\u001b[39mdiv\u001b[38;5;241m.\u001b[39mdiv\u001b[38;5;241m.\u001b[39mp\u001b[38;5;241m.\u001b[39mtext\n",
      "\u001b[1;31mAttributeError\u001b[0m: 'NoneType' object has no attribute 'div'"
     ]
    }
   ],
   "source": [
    "for i in product_review:\n",
    "    try:\n",
    "        rating = i.div.div.div.div.text\n",
    "    except Exception as e:\n",
    "        rating = \"no rating\"\n",
    "    try:\n",
    "        reviewer_name = i.div.div.find_all('p', {\"class\":\"_2sc7ZR _2V5EHH\"})[0].text\n",
    "    except Exception as e:\n",
    "        reviewer_name = \"no reviewr name\"\n",
    "    try:\n",
    "        comment_header = i.div.div.div.p.text\n",
    "    except Exception as e:\n",
    "        comment_header = \"no comment\"\n",
    "    try:\n",
    "        date_of_review = i.div.div.find_all(\"p\", {\"class\":\"_2sc7ZR\"})[1].text\n",
    "    except Exception as e:\n",
    "        date_of_review = \"no date\"\n",
    "    print(rating, reviewer_name, comment_header, date_of_review)"
   ]
  },
  {
   "cell_type": "code",
   "execution_count": 13,
   "id": "0b418e23",
   "metadata": {},
   "outputs": [],
   "source": [
    "import mysql.connector\n",
    "mydb = mysql.connector.connect(host= \"localhost\", user = \"root\", password = \"admin123\")\n",
    "cursor = mydb.cursor()\n",
    "cursor.execute(\"create database if not exists review\")\n",
    "cursor.execute(\"CREATE TABLE if not exists review.customers (name VARCHAR(255), review VARCHAR(255), price VARCHAR(255), comment VARCHAR(255), rating VARCHAR(255), date_of_review VARCHAR(355))\")\n"
   ]
  },
  {
   "cell_type": "code",
   "execution_count": null,
   "id": "22526a9e",
   "metadata": {},
   "outputs": [],
   "source": []
  },
  {
   "cell_type": "code",
   "execution_count": null,
   "id": "6d077c4a",
   "metadata": {},
   "outputs": [],
   "source": []
  }
 ],
 "metadata": {
  "kernelspec": {
   "display_name": "Python 3 (ipykernel)",
   "language": "python",
   "name": "python3"
  },
  "language_info": {
   "codemirror_mode": {
    "name": "ipython",
    "version": 3
   },
   "file_extension": ".py",
   "mimetype": "text/x-python",
   "name": "python",
   "nbconvert_exporter": "python",
   "pygments_lexer": "ipython3",
   "version": "3.9.12"
  }
 },
 "nbformat": 4,
 "nbformat_minor": 5
}
